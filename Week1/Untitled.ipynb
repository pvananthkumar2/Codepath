{
 "cells": [
  {
   "cell_type": "code",
   "execution_count": 2,
   "id": "8ea18e7a",
   "metadata": {},
   "outputs": [
    {
     "name": "stdout",
     "output_type": "stream",
     "text": [
      "Today's mood: 😕\n"
     ]
    }
   ],
   "source": [
    "def todays_mood():\n",
    "    mood = \"😕\"\n",
    "    print(\"Today's mood: \" + mood)\n",
    "\n",
    "todays_mood()\n"
   ]
  },
  {
   "cell_type": "code",
   "execution_count": 4,
   "id": "fead4b6e",
   "metadata": {},
   "outputs": [
    {
     "name": "stdout",
     "output_type": "stream",
     "text": [
      "Lunch today is: 🍱\n"
     ]
    }
   ],
   "source": [
    "def print_menu(menu):\n",
    "    print(\"Lunch today is: \" + menu)\n",
    "    \n",
    "print_menu('🍱')"
   ]
  },
  {
   "cell_type": "code",
   "execution_count": 6,
   "id": "36115a5d",
   "metadata": {},
   "outputs": [
    {
     "name": "stdout",
     "output_type": "stream",
     "text": [
      "80\n"
     ]
    }
   ],
   "source": [
    "def sum(a, b):\n",
    "    return a + b\n",
    "c = sum(13,27)\n",
    "print(2*c)"
   ]
  },
  {
   "cell_type": "code",
   "execution_count": 7,
   "id": "06dad6a3",
   "metadata": {},
   "outputs": [
    {
     "name": "stdout",
     "output_type": "stream",
     "text": [
      "252\n"
     ]
    }
   ],
   "source": [
    "def product(a,b):\n",
    "    return a*b\n",
    "print(product(9,28))"
   ]
  },
  {
   "cell_type": "code",
   "execution_count": 8,
   "id": "bad4f3f5",
   "metadata": {},
   "outputs": [
    {
     "name": "stdout",
     "output_type": "stream",
     "text": [
      "adult\n",
      "child\n",
      "adult\n"
     ]
    }
   ],
   "source": [
    "def classify_age(a):\n",
    "    if a<18 :\n",
    "        return 'child'\n",
    "    else :\n",
    "        return 'adult'\n",
    "output = classify_age(18)\n",
    "print(output)\n",
    "output1 = classify_age(7)\n",
    "print(output1)\n",
    "output2 = classify_age(50)\n",
    "print(output2)"
   ]
  },
  {
   "cell_type": "code",
   "execution_count": null,
   "id": "0466701d",
   "metadata": {},
   "outputs": [],
   "source": []
  }
 ],
 "metadata": {
  "kernelspec": {
   "display_name": "Python 3 (ipykernel)",
   "language": "python",
   "name": "python3"
  },
  "language_info": {
   "codemirror_mode": {
    "name": "ipython",
    "version": 3
   },
   "file_extension": ".py",
   "mimetype": "text/x-python",
   "name": "python",
   "nbconvert_exporter": "python",
   "pygments_lexer": "ipython3",
   "version": "3.11.4"
  }
 },
 "nbformat": 4,
 "nbformat_minor": 5
}
